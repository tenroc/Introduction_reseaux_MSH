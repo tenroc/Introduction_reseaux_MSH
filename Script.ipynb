{
 "cells": [
  {
   "cell_type": "markdown",
   "id": "f1bdd050",
   "metadata": {},
   "source": [
    "# Analyse et visualisation de réseaux:\n",
    "\n",
    "## Import des scripts et description de la base:\n",
    "\n",
    "Dans ce script, nous allons voir comment calculer les metriques de base décrivant la structure des réseaux, et comment visualiser un réseau.\n",
    "\n",
    "Pour cela, nous utilserons les réseaux d'édition de deux pages du wikipédia anglophone: \n",
    "\n",
    "- Zapata rail (Oiseau Cubain)\n",
    "- Oil Spill (Marées noires)\n",
    "\n",
    "On commence par importer les bases pour Zapata rail, qui se trouvent dans le sous dossier *Data*:"
   ]
  },
  {
   "cell_type": "code",
   "execution_count": null,
   "id": "01cdd5dd",
   "metadata": {},
   "outputs": [],
   "source": [
    "zapata_rail_edit_edgelist <- read.csv2(file = \"Data/Zapata_rail_edit_edgelist.csv\")\n",
    "zapata_rail_edit_attributes <- read.csv2(file = \"Data/Zapata_rail_edit_attributes.csv\")"
   ]
  },
  {
   "cell_type": "code",
   "execution_count": null,
   "id": "5b203508",
   "metadata": {},
   "outputs": [],
   "source": [
    "# Options pour les graphes: on modifie la taille de l'affichage\n",
    "\n",
    "options(repr.plot.width = 15, repr.plot.height = 10)"
   ]
  },
  {
   "cell_type": "markdown",
   "id": "9250a97e",
   "metadata": {},
   "source": [
    "Comment sont organisées les bases que l'on vient d'importer?"
   ]
  },
  {
   "cell_type": "code",
   "execution_count": null,
   "id": "f86e1673",
   "metadata": {},
   "outputs": [],
   "source": [
    "head(zapata_rail_edit_edgelist)"
   ]
  },
  {
   "cell_type": "markdown",
   "id": "18c7cf9d",
   "metadata": {},
   "source": [
    "La base \"edgelist\" décrit une suite d'action qui ont lieux sur la page. Ici, le réseau d'édition est organisé de la manière suivante: \n",
    "\n",
    "Les contributeurs peuvent effectuer trois types d'action sur une page, pour chaque action, le type est décrit dans la variable InteractionType: \n",
    "\n",
    "- ADDED: Ajout de texte à la page, la cible est toujours le noeud \"page\".\n",
    "- DELETED: Suppression de texte, la cible est l'auteur du texte original.\n",
    "- RESTORED: Annule une suppression ou modification de texte. La cible est l'auteur original du texte qui est restauré.\n",
    "\n",
    "On peut voir leur distribution à l'aide de la fonction table(base$variable):\n"
   ]
  },
  {
   "cell_type": "code",
   "execution_count": null,
   "id": "2682b57d",
   "metadata": {},
   "outputs": [],
   "source": [
    "table(zapata_rail_edit_edgelist$InteractionType)"
   ]
  },
  {
   "cell_type": "markdown",
   "id": "66baaa3f",
   "metadata": {},
   "source": [
    "Les contributeurs (ActiveUser) effectuent ainsi toujours une action envers un autre contributeur, ou la page. La cible de l'action est décrite dans la variable TargetAuthor.\n",
    "\n",
    "Dans le but de simplifier les bases, j'ai regroupé les actions similaires (ex: l'utilisateur x reverse trois fois du texte écrit par y). La variable InteractionCount décrit le nombre total d'actions similaires décrites par la ligne.\n",
    "\n",
    "La variable Wordcount décrit le nombre total de mots concernés par la ligne (ajouté à la page pour un ADD, supprimés pour un DELETE, etc.)"
   ]
  },
  {
   "cell_type": "code",
   "execution_count": null,
   "id": "08ce680d",
   "metadata": {},
   "outputs": [],
   "source": [
    "# Pour avoir deux graphes côte à côte:\n",
    "\n",
    "par(mfrow=c(1,2))\n",
    "\n",
    "boxplot(zapata_rail_edit_edgelist$WordCount, xlab = \"WordCount\",\n",
    "        main = \"Nombre de mots par action\")\n",
    "\n",
    "boxplot(zapata_rail_edit_edgelist$InteractionCount, xlab = \"InteractionCout\",\n",
    "        main = \"Nombre d'interaction similaires\")\n",
    "\n",
    "par(mfrow=c(1,1))"
   ]
  },
  {
   "cell_type": "code",
   "execution_count": null,
   "id": "e56232ef",
   "metadata": {
    "scrolled": true
   },
   "outputs": [],
   "source": [
    "head(zapata_rail_edit_attributes)"
   ]
  },
  {
   "cell_type": "markdown",
   "id": "c161afca",
   "metadata": {},
   "source": [
    "La base d'attributs décrit les charactéristiques des utilisateurs listés dans le réseau d'édition. Là ou la base *edgelist* nous montre une ligne par action, ici, la base nous montre une ligne par contributeur unique qui a modifié à un moment la page Zapata Rail.\n",
    "\n",
    "La base nous donne le statut du contributeur ($Status). Celui ci peut être:\n",
    "\n",
    "- Anon: Contributeur anonyme, non inscrit sur wikipédia. Il est identifié par l'adresse IP utilisée lors de la modification.\n",
    "- Page: La page apparait dans la liste des attributs pour des raisons techniques. Elle n'a évidemment pas d'autres caractéristiques que d'être \"la page\".\n",
    "- Admin: Administrateurs wikipédia: utilisateurs élus disposant de droits d'édition et de modération élargis.\n",
    "- Bot: Robots pour la mise en forme, la correction, et l'édition automatique.\n",
    "- Users: Contributeurs inscrits, identifiés par leur pseudos.\n",
    "\n",
    "On observe la distribution des status des auteurs de la page à l'aide de la fonction table:"
   ]
  },
  {
   "cell_type": "code",
   "execution_count": null,
   "id": "7960c53f",
   "metadata": {},
   "outputs": [],
   "source": [
    "table(zapata_rail_edit_attributes$Status)"
   ]
  },
  {
   "cell_type": "markdown",
   "id": "b7674622",
   "metadata": {},
   "source": [
    "La variable TotalWordCount nous donne le nombre total de mots contribués par l'utilisateur à la page (ADD uniquement donc)."
   ]
  },
  {
   "cell_type": "code",
   "execution_count": null,
   "id": "33ccb42e",
   "metadata": {},
   "outputs": [],
   "source": [
    "boxplot(zapata_rail_edit_attributes$TotalWordCount, xlab = \"InteractionCout\",\n",
    "        main = \"Nombre d'interaction similaires\")"
   ]
  },
  {
   "cell_type": "markdown",
   "id": "68970bd5",
   "metadata": {},
   "source": [
    "## Visualisation du graphe:\n",
    "\n",
    "On peut maintenant commencer à regarder le réseau. Le package R que l'on utilise pour ce cours est igraph. Il faut en premier lieu le charger avec la commande library(package), en prenant soin de ne charger que les colonnes décrivant une action (lien), ici, les colonnes 1 et 2:"
   ]
  },
  {
   "cell_type": "code",
   "execution_count": null,
   "id": "6f2d2f0b",
   "metadata": {},
   "outputs": [],
   "source": [
    "library(igraph)"
   ]
  },
  {
   "cell_type": "markdown",
   "id": "0d2d2b32",
   "metadata": {},
   "source": [
    "Il nous faut ensuite charger la base qui décrit les liens (notre base 'edgelist')  dans un objet graphe:"
   ]
  },
  {
   "cell_type": "code",
   "execution_count": null,
   "id": "bff76cbf",
   "metadata": {},
   "outputs": [],
   "source": [
    "zapata_rail_edit_graphe <- graph.edgelist(as.matrix(zapata_rail_edit_edgelist[,2:3]))"
   ]
  },
  {
   "cell_type": "markdown",
   "id": "c71af5fb",
   "metadata": {},
   "source": [
    "On peut ensuite regarder ce qu'il y  a dans l'objet graphe que l'on vient de créer:"
   ]
  },
  {
   "cell_type": "code",
   "execution_count": null,
   "id": "6bc0a845",
   "metadata": {},
   "outputs": [],
   "source": [
    "summary(zapata_rail_edit_graphe)"
   ]
  },
  {
   "cell_type": "markdown",
   "id": "9fca6ecc",
   "metadata": {},
   "source": [
    "**Lecture de la sortie:** C'est un DN (*Directed Network* = Réseau dirigé), qui comporte 110 noeuds, et 371 liens.  Il ne comporte pour l'instant pas d'attributs (pour l'instant), à part *name* qui décrit le nom des noeuds.\n",
    "\n",
    "On peut réaliser une première représentation du graphe avec la commande plot:"
   ]
  },
  {
   "cell_type": "code",
   "execution_count": null,
   "id": "73908bd5",
   "metadata": {},
   "outputs": [],
   "source": [
    "plot(zapata_rail_edit_graphe)"
   ]
  },
  {
   "cell_type": "markdown",
   "id": "49e05d64",
   "metadata": {},
   "source": [
    "Problème, c'est assez peu lisible...\n",
    "\n",
    "On peut ajuster le graphe en ajoutant des arguments à la fonction plot. \n",
    "\n",
    "On peut enlever les labels:"
   ]
  },
  {
   "cell_type": "code",
   "execution_count": null,
   "id": "ff5cf0a8",
   "metadata": {},
   "outputs": [],
   "source": [
    "plot(zapata_rail_edit_graphe,\n",
    "     vertex.label= NA)"
   ]
  },
  {
   "cell_type": "markdown",
   "id": "67aed272",
   "metadata": {},
   "source": [
    "Réduire la taille des arrêtes (edge) et des noeuds (vertex) :"
   ]
  },
  {
   "cell_type": "code",
   "execution_count": null,
   "id": "63dab870",
   "metadata": {},
   "outputs": [],
   "source": [
    "plot(zapata_rail_edit_graphe,\n",
    "     edge.arrow.size=.3,\n",
    "     vertex.size = 8,\n",
    "     vertex.label= NA)"
   ]
  },
  {
   "cell_type": "markdown",
   "id": "18eab793",
   "metadata": {},
   "source": [
    "On peut aussi visualiser les attributs des noeuds et des liens directement sur le graphe, à l'aide de conventions graphiques.\n",
    "\n",
    "Il faut d'abord les charger depuis leurs bases respectives dans l'objet graphe (edgelist pour les liens et attributes pour les noeuds): Ci dessous, V appelle l'objet noeuds et E l'objet liens: "
   ]
  },
  {
   "cell_type": "code",
   "execution_count": null,
   "id": "29240712",
   "metadata": {},
   "outputs": [],
   "source": [
    "# On charge le status des contributeurs:\n",
    "\n",
    "V(zapata_rail_edit_graphe)$Status <- zapata_rail_edit_attributes$Status\n",
    "\n",
    "# Le nombre total de mots contribués à la page\n",
    "\n",
    "V(zapata_rail_edit_graphe)$TotalWordCount <- zapata_rail_edit_attributes$TotalWordCount\n",
    "\n",
    "# Le nombre d'\"Actions\" contenues dans un lien (nombre de fois que ce lien exact a lieu)\n",
    "\n",
    "E(zapata_rail_edit_graphe)$IterationCount <- zapata_rail_edit_edgelist$InteractionCount\n",
    "\n",
    "# Le type d'action: ADD, DELETE ou REVERSE?\n",
    "\n",
    "E(zapata_rail_edit_graphe)$InteractionType <- zapata_rail_edit_edgelist$InteractionType\n",
    "\n",
    "# On isole la page:\n",
    "\n",
    "V(zapata_rail_edit_graphe)$Page <- ifelse(zapata_rail_edit_attributes$Users == \"Page\", 'square', 'circle')"
   ]
  },
  {
   "cell_type": "markdown",
   "id": "be913448",
   "metadata": {},
   "source": [
    "On peut ensuite ajouter ces attributs au graphe, sous la forme que l'on veut:\n",
    "Ici, je choisis de faire varier la taille des liens en fonction du nombre d'\"Actions\" contenues dans un lien, la taille des noeuds en fonction du nombre total de mots qu'ils ont ajoutés à la page, et la couleur des noeuds en fonction de leur statut."
   ]
  },
  {
   "cell_type": "code",
   "execution_count": null,
   "id": "b2eb2b12",
   "metadata": {},
   "outputs": [],
   "source": [
    "plot(zapata_rail_edit_graphe,\n",
    "     edge.arrow.size = .3,\n",
    "     edge.width = E(zapata_rail_edit_graphe)$IterationCount,\n",
    "     edge.color = as.factor(E(zapata_rail_edit_graphe)$InteractionType),\n",
    "     vertex.size = V(zapata_rail_edit_graphe)$TotalWordCount,\n",
    "     vertex.color = as.factor(V(zapata_rail_edit_graphe)$Status),\n",
    "     vertex.label = NA)"
   ]
  },
  {
   "cell_type": "markdown",
   "id": "d719deba",
   "metadata": {},
   "source": [
    "Problème, notre taille de noeuds a une amplitude beaucoup trop importante. Plusieurs solutions existent, on peut prendre le log, on peut centrer-réduire. Ici, je prends le log * 2, +4 pour que la taille minimale des points soit de 4:"
   ]
  },
  {
   "cell_type": "code",
   "execution_count": null,
   "id": "0133514e",
   "metadata": {},
   "outputs": [],
   "source": [
    "plot(zapata_rail_edit_graphe,\n",
    "     edge.arrow.size = .3,\n",
    "     edge.width = E(zapata_rail_edit_graphe)$IterationCount,\n",
    "     edge.color = as.factor(E(zapata_rail_edit_graphe)$InteractionType),\n",
    "     vertex.size = log(V(zapata_rail_edit_graphe)$TotalWordCount + 4) * 2,\n",
    "     vertex.color = as.factor(V(zapata_rail_edit_graphe)$Status),\n",
    "     vertex.label = NA,\n",
    "     vertex.shape = V(zapata_rail_edit_graphe)$Page)"
   ]
  },
  {
   "cell_type": "markdown",
   "id": "7caf0c8f",
   "metadata": {},
   "source": [
    "Problème: On ne sait pas trop quelles couleurs correspondent à quel statut ou a quelle interaction...\n",
    "On peut définir des vecteurs de couleur à la main, en choisissant les correspondances:"
   ]
  },
  {
   "cell_type": "code",
   "execution_count": null,
   "id": "b3e33c79",
   "metadata": {},
   "outputs": [],
   "source": [
    "E(zapata_rail_edit_graphe)$Color_edge[E(zapata_rail_edit_graphe)$InteractionType == \"ADDED\"] <- \"#3892e0\"\n",
    "E(zapata_rail_edit_graphe)$Color_edge[E(zapata_rail_edit_graphe)$InteractionType == \"DELETED\"] <- \"#da4d45\"\n",
    "E(zapata_rail_edit_graphe)$Color_edge[E(zapata_rail_edit_graphe)$InteractionType == \"RESTORED\"] <- \"#fbd25d\"\n",
    "\n",
    "V(zapata_rail_edit_graphe)$Color_nodes[V(zapata_rail_edit_graphe)$Status == \"Anon\"] <- \"white\"\n",
    "V(zapata_rail_edit_graphe)$Color_nodes[V(zapata_rail_edit_graphe)$Status == \"User\"] <- \"#f37329\"\n",
    "V(zapata_rail_edit_graphe)$Color_nodes[V(zapata_rail_edit_graphe)$Status == \"Bot\"] <- \"#93d844\"\n",
    "V(zapata_rail_edit_graphe)$Color_nodes[V(zapata_rail_edit_graphe)$Status == \"Admin\"] <- \"#8a4ebf\"\n",
    "V(zapata_rail_edit_graphe)$Color_nodes[V(zapata_rail_edit_graphe)$Status == \"Page\"]<- \"#333333\""
   ]
  },
  {
   "cell_type": "markdown",
   "id": "1b4ba142",
   "metadata": {},
   "source": [
    "Et les appliquer à notre graphe précédant:"
   ]
  },
  {
   "cell_type": "code",
   "execution_count": null,
   "id": "a0e494cc",
   "metadata": {},
   "outputs": [],
   "source": [
    "plot(zapata_rail_edit_graphe,\n",
    "     edge.arrow.size = .3,\n",
    "     edge.width = E(zapata_rail_edit_graphe)$IterationCount,\n",
    "     edge.color = E(zapata_rail_edit_graphe)$Color_edge,\n",
    "     vertex.size = log(V(zapata_rail_edit_graphe)$TotalWordCount + 4) * 2,\n",
    "     vertex.color = V(zapata_rail_edit_graphe)$Color_nodes,\n",
    "     vertex.label = NA,\n",
    "     vertex.shape = V(zapata_rail_edit_graphe)$Page)"
   ]
  },
  {
   "cell_type": "markdown",
   "id": "5addd111",
   "metadata": {},
   "source": [
    "On peut rajouter une légende qui décrit les marques l'on a ajouté à la visualisation:"
   ]
  },
  {
   "cell_type": "code",
   "execution_count": null,
   "id": "18d996f0",
   "metadata": {},
   "outputs": [],
   "source": [
    "plot(zapata_rail_edit_graphe,\n",
    "     edge.arrow.size = .3,\n",
    "     edge.width = E(zapata_rail_edit_graphe)$IterationCount,\n",
    "     edge.color = E(zapata_rail_edit_graphe)$Color_edge,\n",
    "     vertex.size = log(V(zapata_rail_edit_graphe)$TotalWordCount + 4) * 2,\n",
    "     vertex.color = V(zapata_rail_edit_graphe)$Color_nodes,\n",
    "     vertex.label = NA,\n",
    "     vertex.shape = V(zapata_rail_edit_graphe)$Page)\n",
    "\n",
    "\n",
    "legend(x=\"topleft\", c(\"Ajout\",\"Suppression\",\"Reverse\",\"admin\",\"anonyme\",\"inscrit\", \"bot\",\n",
    "                      \"page\",\"WordCount -\", \"WordCount +\"),\n",
    "       pch=c(24,24,24,21,21,21,21,22,21,21),\n",
    "       col=\"#777777\", \n",
    "       pt.bg= c(\"#3892e0\",\"#da4d45\",\"#fbd25d\",\"#8a4ebf\",\"white\",\"#f37329\",\n",
    "                \"#93d844\", \"#333333\", \"white\", \"white\"),\n",
    "       pt.cex=c(2,2,2,2,2,2,2,2,1,4),\n",
    "       cex=.8,\n",
    "       bty=\"n\",\n",
    "       ncol=1)"
   ]
  },
  {
   "cell_type": "markdown",
   "id": "230b505a",
   "metadata": {},
   "source": [
    "### Exercice 1:\n",
    "\n",
    "Dans le dossier *Data* se trouve deux autre bases décrivant le réseau d'édition de la page \"Oil Spill\" (Oil_spill_edit_edgelist.csv et Oil_spill_edit_edgelist.csv). Visualisez le réseau d'édition. Quelle différences observe t-on entre nos deux réseaux? Quelles hypothèses peut-on émettre pour expliquer ces différences?"
   ]
  },
  {
   "cell_type": "code",
   "execution_count": null,
   "id": "788a7256",
   "metadata": {},
   "outputs": [],
   "source": [
    "# Chargez les bases:\n",
    "\n",
    "# Créez l'objet graphe:\n",
    "\n",
    "# Chargez les attributs:\n",
    "\n",
    "# Attribuez les couleurs correctes:\n",
    "\n",
    "# Et lancez la visualisation:"
   ]
  },
  {
   "cell_type": "markdown",
   "id": "45ff9815",
   "metadata": {},
   "source": [
    "## Calcul de metriques structurelles:"
   ]
  },
  {
   "cell_type": "markdown",
   "id": "c27d28f9",
   "metadata": {},
   "source": [
    "## La description du réseau dans son ensemble:"
   ]
  },
  {
   "cell_type": "markdown",
   "id": "8a4cf424",
   "metadata": {},
   "source": [
    "A partir de l'objet graphe, on peut calculer un certain nombre de metriques descriptives de la structure globale du réseau. On a déjà vu comment réccupérer le nombre de noeuds et de liens, mais on peu aussi regarder:\n",
    "\n",
    "La densité (le nombre de liens existant par rapport au nombre de liens possibles):"
   ]
  },
  {
   "cell_type": "code",
   "execution_count": null,
   "id": "a8de4b55",
   "metadata": {},
   "outputs": [],
   "source": [
    "graph.density(zapata_rail_edit_graphe)"
   ]
  },
  {
   "cell_type": "markdown",
   "id": "4527db13",
   "metadata": {},
   "source": [
    "Le nombre de composantes (combien de sous réseaux séparés composent notre réseau)"
   ]
  },
  {
   "cell_type": "code",
   "execution_count": null,
   "id": "11101a8d",
   "metadata": {},
   "outputs": [],
   "source": [
    "clusters(zapata_rail_edit_graphe)"
   ]
  },
  {
   "cell_type": "markdown",
   "id": "94457307",
   "metadata": {},
   "source": [
    "Le taux de réciprocité des liens (pour les graphes dirigés):"
   ]
  },
  {
   "cell_type": "code",
   "execution_count": null,
   "id": "bfce4c09",
   "metadata": {},
   "outputs": [],
   "source": [
    "reciprocity(zapata_rail_edit_graphe)"
   ]
  },
  {
   "cell_type": "markdown",
   "id": "2f065e83",
   "metadata": {},
   "source": [
    "La distance moyenne entre les noeuds:"
   ]
  },
  {
   "cell_type": "code",
   "execution_count": null,
   "id": "b060f549",
   "metadata": {},
   "outputs": [],
   "source": [
    "average.path.length(zapata_rail_edit_graphe)"
   ]
  },
  {
   "cell_type": "markdown",
   "id": "f1f85e46",
   "metadata": {},
   "source": [
    "Le diamètre (distance entre les deux noeuds les plus éloignés du réseau)"
   ]
  },
  {
   "cell_type": "code",
   "execution_count": null,
   "id": "b1fbfedf",
   "metadata": {},
   "outputs": [],
   "source": [
    "diameter(zapata_rail_edit_graphe)"
   ]
  },
  {
   "cell_type": "markdown",
   "id": "4de26b36",
   "metadata": {},
   "source": [
    "L'eccentricité: la distance depuis un noeud de départ vers le noeud le plus loin dans le réseau)"
   ]
  },
  {
   "cell_type": "code",
   "execution_count": null,
   "id": "27b097c9",
   "metadata": {},
   "outputs": [],
   "source": [
    "eccentricity(zapata_rail_edit_graphe)"
   ]
  },
  {
   "cell_type": "markdown",
   "id": "9a4aba97",
   "metadata": {},
   "source": [
    "Le rayon: (la plus petite distance à laquelle un noeud peut se trouver de tout les autres)"
   ]
  },
  {
   "cell_type": "code",
   "execution_count": null,
   "id": "45f656eb",
   "metadata": {},
   "outputs": [],
   "source": [
    "radius(zapata_rail_edit_graphe)"
   ]
  },
  {
   "cell_type": "markdown",
   "id": "c64dcf68",
   "metadata": {},
   "source": [
    "La transitivité globale: nombre de triades transitives par rapport au nombre de triades totales"
   ]
  },
  {
   "cell_type": "code",
   "execution_count": null,
   "id": "5204af4f",
   "metadata": {},
   "outputs": [],
   "source": [
    "transitivity(zapata_rail_edit_graphe)"
   ]
  },
  {
   "cell_type": "markdown",
   "id": "0b255283",
   "metadata": {},
   "source": [
    "La transitivité locale et moyenne: combien de noeuds connectés à un noeud sont aussi connectés entre-eux?"
   ]
  },
  {
   "cell_type": "code",
   "execution_count": null,
   "id": "b0f267a0",
   "metadata": {},
   "outputs": [],
   "source": [
    "trans_locale <- transitivity(zapata_rail_edit_graphe, type = \"local\")\n",
    "mean(trans_locale, na.rm = T)"
   ]
  },
  {
   "cell_type": "markdown",
   "id": "4eec15f6",
   "metadata": {},
   "source": [
    "Le nombre et la taille des cliques: (noeuds tous en interaction les uns avec les autres)"
   ]
  },
  {
   "cell_type": "code",
   "execution_count": null,
   "id": "6ab80971",
   "metadata": {},
   "outputs": [],
   "source": [
    "cl <- cliques(zapata_rail_edit_graphe, min=3)\n",
    "\n",
    "length(cl)\n",
    "\n",
    "largest_cliques(zapata_rail_edit_graphe) \n",
    "\n",
    "clique_num(zapata_rail_edit_graphe)"
   ]
  },
  {
   "cell_type": "markdown",
   "id": "7c2e1d47",
   "metadata": {},
   "source": [
    "## Nouveaux attributs des noeuds: variables de réseau et centralité:"
   ]
  },
  {
   "cell_type": "markdown",
   "id": "6316cd1f",
   "metadata": {},
   "source": [
    "En plus des métriques décrivant la structure globale du réseau, on peut calculer les différentes mesures de centralité (voir slides) pour chaque contributeur. On dispose ainsi d'un attribut supplémentaire, décrivant le rôle de chaque contribteur dans la structure du résau.\n",
    "\n",
    "On peut ainsi calculer les demi-degrés intérieurs et extérieurs:"
   ]
  },
  {
   "cell_type": "code",
   "execution_count": null,
   "id": "be13b9ec",
   "metadata": {},
   "outputs": [],
   "source": [
    "V(zapata_rail_edit_graphe)$DegIn <- degree(zapata_rail_edit_graphe, mode=\"in\")\n",
    "V(zapata_rail_edit_graphe)$DegOut <- degree(zapata_rail_edit_graphe, mode=\"out\") "
   ]
  },
  {
   "cell_type": "markdown",
   "id": "aaf887f6",
   "metadata": {},
   "source": [
    "Les décrire:"
   ]
  },
  {
   "cell_type": "code",
   "execution_count": null,
   "id": "9859a2a8",
   "metadata": {},
   "outputs": [],
   "source": [
    "mean(V(zapata_rail_edit_graphe)$DegIn)\n",
    "sd(V(zapata_rail_edit_graphe)$DegIn)\n",
    "\n",
    "mean(V(zapata_rail_edit_graphe)$DegOut)\n",
    "sd(V(zapata_rail_edit_graphe)$DegOut)"
   ]
  },
  {
   "cell_type": "markdown",
   "id": "fb991ef3",
   "metadata": {},
   "source": [
    "Et visualiser leur distribution:"
   ]
  },
  {
   "cell_type": "code",
   "execution_count": null,
   "id": "4f96770d",
   "metadata": {},
   "outputs": [],
   "source": [
    "par(mfrow=c(1,2))\n",
    "\n",
    "hist(V(zapata_rail_edit_graphe)$DegIn, col = \"lightblue\",\n",
    "     main = \"Degré entrant des contributeurs de la page Zapata rail\",\n",
    "     xlab = \"InDegree\")\n",
    "\n",
    "hist(V(zapata_rail_edit_graphe)$DegOut, col = \"lightblue\",\n",
    "     main = \"Degré sortant des contributeurs de la page Zapata rail\",\n",
    "     xlab = \"OutDegree\")\n",
    "\n",
    "par(mfrow=c(1,1))"
   ]
  },
  {
   "cell_type": "markdown",
   "id": "a3b26b97",
   "metadata": {},
   "source": [
    "On peut calculer la centralisation du réseau:"
   ]
  },
  {
   "cell_type": "code",
   "execution_count": null,
   "id": "4fe70796",
   "metadata": {},
   "outputs": [],
   "source": [
    "# Indegree\n",
    "\n",
    "centr_degree(zapata_rail_edit_graphe, mode = \"in\", normalized = T)$centralization\n",
    "\n",
    "# OutDegree \n",
    "\n",
    "centr_degree(zapata_rail_edit_graphe, mode = \"out\", normalized = T)$centralization"
   ]
  },
  {
   "cell_type": "markdown",
   "id": "5aa8fa33",
   "metadata": {},
   "source": [
    "La centralité d'intermédiarité pour tous les noeuds:"
   ]
  },
  {
   "cell_type": "code",
   "execution_count": null,
   "id": "451329c2",
   "metadata": {},
   "outputs": [],
   "source": [
    "V(zapata_rail_edit_graphe)$Bet <- betweenness(zapata_rail_edit_graphe, directed=TRUE, normalized = FALSE)\n",
    "\n",
    "mean(V(zapata_rail_edit_graphe)$Bet)\n",
    "sd(V(zapata_rail_edit_graphe)$Bet)"
   ]
  },
  {
   "cell_type": "markdown",
   "id": "05fd56ed",
   "metadata": {},
   "source": [
    "Pour finir par la centralité de vecteurs propres. Pour cela on a besoin de construire un graphe non orienté:"
   ]
  },
  {
   "cell_type": "code",
   "execution_count": null,
   "id": "74efa0ea",
   "metadata": {},
   "outputs": [],
   "source": [
    "zapata_rail_edit_graphe_no <- graph.edgelist(as.matrix(zapata_rail_edit_edgelist[,2:3]), directed = F)"
   ]
  },
  {
   "cell_type": "markdown",
   "id": "a26eaa26",
   "metadata": {},
   "source": [
    "Puis on calcule la centralité d'intermédiarité:"
   ]
  },
  {
   "cell_type": "code",
   "execution_count": null,
   "id": "6c9df2e2",
   "metadata": {},
   "outputs": [],
   "source": [
    "eigen_centrality(zapata_rail_edit_graphe_no, directed = FALSE)$value\n",
    "\n",
    "hist(eigen_centrality(zapata_rail_edit_graphe_no, directed = FALSE)$vector, col = \"lightblue\",\n",
    "     main = \"Eigen Centrality\", xlab = \"Eigen value\")"
   ]
  },
  {
   "cell_type": "markdown",
   "id": "f8cf3a36",
   "metadata": {},
   "source": [
    "### Exercice 2:\n",
    "\n",
    "Calculez les metriques pour le reseau. Que peut-on conclure des différences entre les deux réseaux? Celà nous aide t-il à réponde aux hypothèses posées lors de la phase de visualisation?"
   ]
  },
  {
   "cell_type": "code",
   "execution_count": null,
   "id": "8b9ecab9",
   "metadata": {},
   "outputs": [],
   "source": [
    "# Pas besoin de recréer l'objet graphe\n",
    "\n",
    "# Indice: Les metriques qui nous intéressent ici sont principalement:\n",
    "# la densité, la centralisation et les demi-degrés intèrieurs et extérieurs\n",
    "\n",
    "# Vous pouvez aussi comparer la distribution des status entre les deux réseaux."
   ]
  }
 ],
 "metadata": {
  "kernelspec": {
   "display_name": "R",
   "language": "R",
   "name": "ir"
  },
  "language_info": {
   "codemirror_mode": "r",
   "file_extension": ".r",
   "mimetype": "text/x-r-source",
   "name": "R",
   "pygments_lexer": "r",
   "version": "4.1.1"
  }
 },
 "nbformat": 4,
 "nbformat_minor": 5
}
